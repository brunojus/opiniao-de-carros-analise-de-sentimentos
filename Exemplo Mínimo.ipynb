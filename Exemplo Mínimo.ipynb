{
 "cells": [
  {
   "cell_type": "code",
   "execution_count": 20,
   "metadata": {},
   "outputs": [
    {
     "name": "stdout",
     "output_type": "stream",
     "text": [
      "CROSS VALIDATION SCORE: Accuracy: 0.91 (+/- 0.05)\n",
      "SAME DATASET SCORE: Accuracy: 0.96\n",
      "TEST SCORE: Accuracy: 0.93\n"
     ]
    }
   ],
   "source": [
    "import pandas as pd\n",
    "from sklearn import model_selection, feature_extraction, model_selection\n",
    "from sklearn.naive_bayes import MultinomialNB\n",
    "from nltk.corpus import stopwords\n",
    "\n",
    "# Ler CSV\n",
    "documents = pd.read_csv('data/carros.csv', delimiter=';')\n",
    "\n",
    "# Criar conjunto de treino e teste\n",
    "train_set, test_set = model_selection.train_test_split(documents, test_size=0.2, random_state=37)\n",
    "\n",
    "# Criar Matrizes de Palavras por Documento\n",
    "vectorizer = feature_extraction.text.TfidfVectorizer(max_features=10000, stop_words=stopwords.words(\"portuguese\"))\n",
    "train_X = vectorizer.fit_transform(train_set['Texto'].values)\n",
    "train_Y = train_set['Classe'].values\n",
    "test_X = vectorizer.transform(test_set['Texto'].values)\n",
    "test_Y = test_set['Classe'].values\n",
    "\n",
    "# Testar um classificador\n",
    "clf = MultinomialNB()\n",
    "scores = model_selection.cross_val_score(clf, train_X, train_Y, cv=10)\n",
    "print(\"CROSS VALIDATION SCORE: Accuracy: %0.2f (+/- %0.2f)\" % (scores.mean(), scores.std() * 2))\n",
    "clf.fit(train_X, train_Y)\n",
    "print(\"SAME DATASET SCORE: Accuracy: %0.2f\" % clf.score(train_X, train_Y))\n",
    "print(\"TEST SCORE: Accuracy: %0.2f\" % clf.score(test_X, test_Y))"
   ]
  }
 ],
 "metadata": {
  "kernelspec": {
   "display_name": "Python 3",
   "language": "python",
   "name": "python3"
  },
  "language_info": {
   "codemirror_mode": {
    "name": "ipython",
    "version": 3
   },
   "file_extension": ".py",
   "mimetype": "text/x-python",
   "name": "python",
   "nbconvert_exporter": "python",
   "pygments_lexer": "ipython3",
   "version": "3.6.1"
  }
 },
 "nbformat": 4,
 "nbformat_minor": 2
}
