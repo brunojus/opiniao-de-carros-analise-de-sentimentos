{
 "cells": [
  {
   "cell_type": "markdown",
   "metadata": {},
   "source": [
    "# Text Mining - Sentiment Analysis"
   ]
  },
  {
   "cell_type": "code",
   "execution_count": 1,
   "metadata": {},
   "outputs": [],
   "source": [
    "%matplotlib inline\n",
    "\n",
    "from utils import plot_confusion_matrix, confusion_matrix\n",
    "\n",
    "import matplotlib.pyplot as plt\n",
    "import numpy as np\n",
    "import nltk\n",
    "from nltk.tokenize import RegexpTokenizer\n",
    "from nltk.corpus import stopwords\n",
    "from nltk import stem, FreqDist\n",
    "import pandas as pd\n",
    "from pandas import DataFrame\n",
    "from sklearn.feature_extraction.text import TfidfVectorizer\n",
    "from sklearn.model_selection import cross_val_score, cross_val_predict, train_test_split\n",
    "from sklearn.ensemble import RandomForestClassifier, ExtraTreesClassifier\n",
    "from sklearn.naive_bayes import MultinomialNB, BernoulliNB\n",
    "from sklearn.svm import SVC\n",
    "from sklearn.neighbors import KNeighborsClassifier\n",
    "from sklearn.linear_model import PassiveAggressiveClassifier, Perceptron, SGDClassifier, RidgeClassifier\n",
    "from sklearn import metrics\n",
    "\n",
    "pd.set_option('display.max_rows', 10)"
   ]
  },
  {
   "cell_type": "code",
   "execution_count": 2,
   "metadata": {},
   "outputs": [
    {
     "data": {
      "text/html": [
       "<div>\n",
       "<style>\n",
       "    .dataframe thead tr:only-child th {\n",
       "        text-align: right;\n",
       "    }\n",
       "\n",
       "    .dataframe thead th {\n",
       "        text-align: left;\n",
       "    }\n",
       "\n",
       "    .dataframe tbody tr th {\n",
       "        vertical-align: top;\n",
       "    }\n",
       "</style>\n",
       "<table border=\"1\" class=\"dataframe\">\n",
       "  <thead>\n",
       "    <tr style=\"text-align: right;\">\n",
       "      <th></th>\n",
       "      <th>Classe</th>\n",
       "      <th>Texto</th>\n",
       "    </tr>\n",
       "  </thead>\n",
       "  <tbody>\n",
       "    <tr>\n",
       "      <th>0</th>\n",
       "      <td>Contras</td>\n",
       "      <td>cheiro ruim depois que desliga o ar, seta impr...</td>\n",
       "    </tr>\n",
       "    <tr>\n",
       "      <th>1</th>\n",
       "      <td>Contras</td>\n",
       "      <td>peças um pouco mais caras, revenda, o povo bra...</td>\n",
       "    </tr>\n",
       "    <tr>\n",
       "      <th>2</th>\n",
       "      <td>Contras</td>\n",
       "      <td>Ruídos internos excessivos, a suspensão faz um...</td>\n",
       "    </tr>\n",
       "    <tr>\n",
       "      <th>3</th>\n",
       "      <td>Contras</td>\n",
       "      <td>Muito barulhento, pelo que me falaram o consum...</td>\n",
       "    </tr>\n",
       "    <tr>\n",
       "      <th>4</th>\n",
       "      <td>Contras</td>\n",
       "      <td>nada a declarar.</td>\n",
       "    </tr>\n",
       "  </tbody>\n",
       "</table>\n",
       "</div>"
      ],
      "text/plain": [
       "    Classe                                              Texto\n",
       "0  Contras  cheiro ruim depois que desliga o ar, seta impr...\n",
       "1  Contras  peças um pouco mais caras, revenda, o povo bra...\n",
       "2  Contras  Ruídos internos excessivos, a suspensão faz um...\n",
       "3  Contras  Muito barulhento, pelo que me falaram o consum...\n",
       "4  Contras                                   nada a declarar."
      ]
     },
     "execution_count": 2,
     "metadata": {},
     "output_type": "execute_result"
    }
   ],
   "source": [
    "documents = pd.read_csv('data/carros.csv', delimiter=';')\n",
    "\n",
    "# visualize\n",
    "documents.head()"
   ]
  },
  {
   "cell_type": "markdown",
   "metadata": {},
   "source": [
    "## Dividindo os documentos entre treino e teste"
   ]
  },
  {
   "cell_type": "code",
   "execution_count": 3,
   "metadata": {
    "collapsed": true
   },
   "outputs": [],
   "source": [
    "train_set, test_set = train_test_split(documents, test_size=0.2, random_state=37)\n",
    "classes = set(train_set['Classe'])"
   ]
  },
  {
   "cell_type": "code",
   "execution_count": 4,
   "metadata": {},
   "outputs": [
    {
     "data": {
      "text/plain": [
       "Pros       1243\n",
       "Contras    1173\n",
       "Name: Classe, dtype: int64"
      ]
     },
     "execution_count": 4,
     "metadata": {},
     "output_type": "execute_result"
    }
   ],
   "source": [
    "train_set['Classe'].value_counts()"
   ]
  },
  {
   "cell_type": "code",
   "execution_count": 5,
   "metadata": {},
   "outputs": [
    {
     "data": {
      "text/plain": [
       "Pros       303\n",
       "Contras    302\n",
       "Name: Classe, dtype: int64"
      ]
     },
     "execution_count": 5,
     "metadata": {},
     "output_type": "execute_result"
    }
   ],
   "source": [
    "test_set['Classe'].value_counts()"
   ]
  },
  {
   "cell_type": "markdown",
   "metadata": {},
   "source": [
    "## Tokenize"
   ]
  },
  {
   "cell_type": "code",
   "execution_count": 6,
   "metadata": {},
   "outputs": [
    {
     "data": {
      "text/plain": [
       "['Ruídos', 'internos', 'excessivos', 'a', 'suspensão']"
      ]
     },
     "execution_count": 6,
     "metadata": {},
     "output_type": "execute_result"
    }
   ],
   "source": [
    "def tokenize(text):\n",
    "    return RegexpTokenizer(r'\\w+').tokenize(text)\n",
    "\n",
    "tokenize(documents['Texto'][2])[:5]"
   ]
  },
  {
   "cell_type": "markdown",
   "metadata": {
    "collapsed": true
   },
   "source": [
    "## Remove Stop Words"
   ]
  },
  {
   "cell_type": "code",
   "execution_count": 7,
   "metadata": {
    "scrolled": true
   },
   "outputs": [
    {
     "data": {
      "text/plain": [
       "['elas',\n",
       " 'me',\n",
       " 'eles',\n",
       " 'pelas',\n",
       " 'tinham',\n",
       " 'entre',\n",
       " 'pelo',\n",
       " 'foi',\n",
       " 'nossos',\n",
       " 'das']"
      ]
     },
     "execution_count": 7,
     "metadata": {},
     "output_type": "execute_result"
    }
   ],
   "source": [
    "stop_words = set(stopwords.words(\"portuguese\"))\n",
    "\n",
    "# remoção de algumas palavras\n",
    "stop_words.difference_update(set(['não', 'nem']))\n",
    "\n",
    "def remove_stop_words(words):\n",
    "    words = [w for w in words if w not in stop_words]\n",
    "    return words\n",
    "\n",
    "list(stop_words)[:10]"
   ]
  },
  {
   "cell_type": "code",
   "execution_count": 8,
   "metadata": {},
   "outputs": [
    {
     "name": "stdout",
     "output_type": "stream",
     "text": [
      "Original:  55\n",
      "Sem as stop words: 37\n"
     ]
    }
   ],
   "source": [
    "text = tokenize(documents['Texto'][0])\n",
    "print('Original: ', len(text))\n",
    "\n",
    "text_cleaned = remove_stop_words(text)\n",
    "print('Sem as stop words:', len(text_cleaned))"
   ]
  },
  {
   "cell_type": "code",
   "execution_count": 9,
   "metadata": {},
   "outputs": [
    {
     "data": {
      "text/plain": [
       "['cheiro', 'ruim', 'desliga', 'ar', 'seta', 'imprecisa']"
      ]
     },
     "execution_count": 9,
     "metadata": {},
     "output_type": "execute_result"
    }
   ],
   "source": [
    "text_cleaned[:6]"
   ]
  },
  {
   "cell_type": "markdown",
   "metadata": {},
   "source": [
    "## Stemmer"
   ]
  },
  {
   "cell_type": "code",
   "execution_count": 10,
   "metadata": {
    "collapsed": true
   },
   "outputs": [],
   "source": [
    "def stem_words(words):\n",
    "    stemmer = nltk.stem.RSLPStemmer()\n",
    "    words = [stemmer.stem(w) for w in words]\n",
    "    return words"
   ]
  },
  {
   "cell_type": "code",
   "execution_count": 11,
   "metadata": {},
   "outputs": [
    {
     "data": {
      "text/plain": [
       "['cheir', 'ruim', 'deslig', 'ar', 'set', 'imprecis']"
      ]
     },
     "execution_count": 11,
     "metadata": {},
     "output_type": "execute_result"
    }
   ],
   "source": [
    "# Exemplo\n",
    "stem_words(remove_stop_words(tokenize(documents['Texto'][0])))[:6]"
   ]
  },
  {
   "cell_type": "markdown",
   "metadata": {},
   "source": [
    "## Análise - Palavras mais frequentes"
   ]
  },
  {
   "cell_type": "code",
   "execution_count": 32,
   "metadata": {},
   "outputs": [
    {
     "name": "stdout",
     "output_type": "stream",
     "text": [
      "All words: 47710\n"
     ]
    },
    {
     "data": {
      "text/html": [
       "<div>\n",
       "<style>\n",
       "    .dataframe thead tr:only-child th {\n",
       "        text-align: right;\n",
       "    }\n",
       "\n",
       "    .dataframe thead th {\n",
       "        text-align: left;\n",
       "    }\n",
       "\n",
       "    .dataframe tbody tr th {\n",
       "        vertical-align: top;\n",
       "    }\n",
       "</style>\n",
       "<table border=\"1\" class=\"dataframe\">\n",
       "  <thead>\n",
       "    <tr style=\"text-align: right;\">\n",
       "      <th></th>\n",
       "      <th>0</th>\n",
       "      <th>1</th>\n",
       "    </tr>\n",
       "  </thead>\n",
       "  <tbody>\n",
       "    <tr>\n",
       "      <th>0</th>\n",
       "      <td>é</td>\n",
       "      <td>1379</td>\n",
       "    </tr>\n",
       "    <tr>\n",
       "      <th>1</th>\n",
       "      <td>carr</td>\n",
       "      <td>1371</td>\n",
       "    </tr>\n",
       "    <tr>\n",
       "      <th>2</th>\n",
       "      <td>não</td>\n",
       "      <td>766</td>\n",
       "    </tr>\n",
       "    <tr>\n",
       "      <th>3</th>\n",
       "      <td>motor</td>\n",
       "      <td>642</td>\n",
       "    </tr>\n",
       "    <tr>\n",
       "      <th>4</th>\n",
       "      <td>o</td>\n",
       "      <td>499</td>\n",
       "    </tr>\n",
       "    <tr>\n",
       "      <th>5</th>\n",
       "      <td>port</td>\n",
       "      <td>485</td>\n",
       "    </tr>\n",
       "    <tr>\n",
       "      <th>6</th>\n",
       "      <td>intern</td>\n",
       "      <td>473</td>\n",
       "    </tr>\n",
       "    <tr>\n",
       "      <th>7</th>\n",
       "      <td>bom</td>\n",
       "      <td>456</td>\n",
       "    </tr>\n",
       "    <tr>\n",
       "      <th>8</th>\n",
       "      <td>consum</td>\n",
       "      <td>448</td>\n",
       "    </tr>\n",
       "    <tr>\n",
       "      <th>9</th>\n",
       "      <td>1</td>\n",
       "      <td>437</td>\n",
       "    </tr>\n",
       "  </tbody>\n",
       "</table>\n",
       "</div>"
      ],
      "text/plain": [
       "        0     1\n",
       "0       é  1379\n",
       "1    carr  1371\n",
       "2     não   766\n",
       "3   motor   642\n",
       "4       o   499\n",
       "5    port   485\n",
       "6  intern   473\n",
       "7     bom   456\n",
       "8  consum   448\n",
       "9       1   437"
      ]
     },
     "execution_count": 32,
     "metadata": {},
     "output_type": "execute_result"
    }
   ],
   "source": [
    "all_words = train_set['Texto'].apply(lambda x: stem_words(remove_stop_words(tokenize(x))))\n",
    "all_words = [word for doc in all_words for word in doc]\n",
    "\n",
    "print(\"All words:\", len(all_words))\n",
    "\n",
    "# Words Most Common\n",
    "DataFrame(FreqDist(all_words).most_common(10))"
   ]
  },
  {
   "cell_type": "markdown",
   "metadata": {},
   "source": [
    "## Vectorize"
   ]
  },
  {
   "cell_type": "code",
   "execution_count": 13,
   "metadata": {},
   "outputs": [],
   "source": [
    "def clean_and_tokenize(text):\n",
    "    tokens = tokenize(text)\n",
    "    tokens = remove_stop_words(tokens)\n",
    "    tokens = stem_words(tokens)\n",
    "    return tokens"
   ]
  },
  {
   "cell_type": "code",
   "execution_count": 31,
   "metadata": {},
   "outputs": [
    {
     "data": {
      "text/html": [
       "<div>\n",
       "<style>\n",
       "    .dataframe thead tr:only-child th {\n",
       "        text-align: right;\n",
       "    }\n",
       "\n",
       "    .dataframe thead th {\n",
       "        text-align: left;\n",
       "    }\n",
       "\n",
       "    .dataframe tbody tr th {\n",
       "        vertical-align: top;\n",
       "    }\n",
       "</style>\n",
       "<table border=\"1\" class=\"dataframe\">\n",
       "  <thead>\n",
       "    <tr style=\"text-align: right;\">\n",
       "      <th></th>\n",
       "      <th>0</th>\n",
       "      <th>00</th>\n",
       "      <th>000</th>\n",
       "      <th>000km</th>\n",
       "      <th>000rpm</th>\n",
       "      <th>00complet</th>\n",
       "      <th>01</th>\n",
       "      <th>02</th>\n",
       "      <th>03</th>\n",
       "      <th>04</th>\n",
       "      <th>...</th>\n",
       "      <th>óim</th>\n",
       "      <th>óle</th>\n",
       "      <th>óptic</th>\n",
       "      <th>ótim</th>\n",
       "      <th>ótmi</th>\n",
       "      <th>ônibu</th>\n",
       "      <th>últ</th>\n",
       "      <th>únic</th>\n",
       "      <th>útel</th>\n",
       "      <th>útil</th>\n",
       "    </tr>\n",
       "  </thead>\n",
       "  <tbody>\n",
       "    <tr>\n",
       "      <th>0</th>\n",
       "      <td>0.136731</td>\n",
       "      <td>0.0</td>\n",
       "      <td>0.0</td>\n",
       "      <td>0.0</td>\n",
       "      <td>0.0</td>\n",
       "      <td>0.0</td>\n",
       "      <td>0.0</td>\n",
       "      <td>0.0</td>\n",
       "      <td>0.0</td>\n",
       "      <td>0.0</td>\n",
       "      <td>...</td>\n",
       "      <td>0.0</td>\n",
       "      <td>0.0</td>\n",
       "      <td>0.0</td>\n",
       "      <td>0.0</td>\n",
       "      <td>0.0</td>\n",
       "      <td>0.0</td>\n",
       "      <td>0.0</td>\n",
       "      <td>0.0</td>\n",
       "      <td>0.0</td>\n",
       "      <td>0.0</td>\n",
       "    </tr>\n",
       "    <tr>\n",
       "      <th>1</th>\n",
       "      <td>0.000000</td>\n",
       "      <td>0.0</td>\n",
       "      <td>0.0</td>\n",
       "      <td>0.0</td>\n",
       "      <td>0.0</td>\n",
       "      <td>0.0</td>\n",
       "      <td>0.0</td>\n",
       "      <td>0.0</td>\n",
       "      <td>0.0</td>\n",
       "      <td>0.0</td>\n",
       "      <td>...</td>\n",
       "      <td>0.0</td>\n",
       "      <td>0.0</td>\n",
       "      <td>0.0</td>\n",
       "      <td>0.0</td>\n",
       "      <td>0.0</td>\n",
       "      <td>0.0</td>\n",
       "      <td>0.0</td>\n",
       "      <td>0.0</td>\n",
       "      <td>0.0</td>\n",
       "      <td>0.0</td>\n",
       "    </tr>\n",
       "    <tr>\n",
       "      <th>2</th>\n",
       "      <td>0.000000</td>\n",
       "      <td>0.0</td>\n",
       "      <td>0.0</td>\n",
       "      <td>0.0</td>\n",
       "      <td>0.0</td>\n",
       "      <td>0.0</td>\n",
       "      <td>0.0</td>\n",
       "      <td>0.0</td>\n",
       "      <td>0.0</td>\n",
       "      <td>0.0</td>\n",
       "      <td>...</td>\n",
       "      <td>0.0</td>\n",
       "      <td>0.0</td>\n",
       "      <td>0.0</td>\n",
       "      <td>0.0</td>\n",
       "      <td>0.0</td>\n",
       "      <td>0.0</td>\n",
       "      <td>0.0</td>\n",
       "      <td>0.0</td>\n",
       "      <td>0.0</td>\n",
       "      <td>0.0</td>\n",
       "    </tr>\n",
       "    <tr>\n",
       "      <th>3</th>\n",
       "      <td>0.000000</td>\n",
       "      <td>0.0</td>\n",
       "      <td>0.0</td>\n",
       "      <td>0.0</td>\n",
       "      <td>0.0</td>\n",
       "      <td>0.0</td>\n",
       "      <td>0.0</td>\n",
       "      <td>0.0</td>\n",
       "      <td>0.0</td>\n",
       "      <td>0.0</td>\n",
       "      <td>...</td>\n",
       "      <td>0.0</td>\n",
       "      <td>0.0</td>\n",
       "      <td>0.0</td>\n",
       "      <td>0.0</td>\n",
       "      <td>0.0</td>\n",
       "      <td>0.0</td>\n",
       "      <td>0.0</td>\n",
       "      <td>0.0</td>\n",
       "      <td>0.0</td>\n",
       "      <td>0.0</td>\n",
       "    </tr>\n",
       "    <tr>\n",
       "      <th>4</th>\n",
       "      <td>0.000000</td>\n",
       "      <td>0.0</td>\n",
       "      <td>0.0</td>\n",
       "      <td>0.0</td>\n",
       "      <td>0.0</td>\n",
       "      <td>0.0</td>\n",
       "      <td>0.0</td>\n",
       "      <td>0.0</td>\n",
       "      <td>0.0</td>\n",
       "      <td>0.0</td>\n",
       "      <td>...</td>\n",
       "      <td>0.0</td>\n",
       "      <td>0.0</td>\n",
       "      <td>0.0</td>\n",
       "      <td>0.0</td>\n",
       "      <td>0.0</td>\n",
       "      <td>0.0</td>\n",
       "      <td>0.0</td>\n",
       "      <td>0.0</td>\n",
       "      <td>0.0</td>\n",
       "      <td>0.0</td>\n",
       "    </tr>\n",
       "  </tbody>\n",
       "</table>\n",
       "<p>5 rows × 3825 columns</p>\n",
       "</div>"
      ],
      "text/plain": [
       "          0   00  000  000km  000rpm  00complet   01   02   03   04  ...   \\\n",
       "0  0.136731  0.0  0.0    0.0     0.0        0.0  0.0  0.0  0.0  0.0  ...    \n",
       "1  0.000000  0.0  0.0    0.0     0.0        0.0  0.0  0.0  0.0  0.0  ...    \n",
       "2  0.000000  0.0  0.0    0.0     0.0        0.0  0.0  0.0  0.0  0.0  ...    \n",
       "3  0.000000  0.0  0.0    0.0     0.0        0.0  0.0  0.0  0.0  0.0  ...    \n",
       "4  0.000000  0.0  0.0    0.0     0.0        0.0  0.0  0.0  0.0  0.0  ...    \n",
       "\n",
       "   óim  óle  óptic  ótim  ótmi  ônibu  últ  únic  útel  útil  \n",
       "0  0.0  0.0    0.0   0.0   0.0    0.0  0.0   0.0   0.0   0.0  \n",
       "1  0.0  0.0    0.0   0.0   0.0    0.0  0.0   0.0   0.0   0.0  \n",
       "2  0.0  0.0    0.0   0.0   0.0    0.0  0.0   0.0   0.0   0.0  \n",
       "3  0.0  0.0    0.0   0.0   0.0    0.0  0.0   0.0   0.0   0.0  \n",
       "4  0.0  0.0    0.0   0.0   0.0    0.0  0.0   0.0   0.0   0.0  \n",
       "\n",
       "[5 rows x 3825 columns]"
      ]
     },
     "execution_count": 31,
     "metadata": {},
     "output_type": "execute_result"
    }
   ],
   "source": [
    "# tf–idf\n",
    "vectorizer = TfidfVectorizer(tokenizer=clean_and_tokenize, max_features=10000)\n",
    "\n",
    "train_X = vectorizer.fit_transform(train_set['Texto'].values)\n",
    "train_Y = train_set['Classe'].values\n",
    "features = vectorizer.get_feature_names()\n",
    "\n",
    "test_X = vectorizer.transform(test_set['Texto'].values)\n",
    "test_Y = test_set['Classe'].values\n",
    "\n",
    "# Visualize\n",
    "DataFrame(train_X.toarray(), columns=features).head()"
   ]
  },
  {
   "cell_type": "markdown",
   "metadata": {},
   "source": [
    "## Treinar e Validar"
   ]
  },
  {
   "cell_type": "code",
   "execution_count": 15,
   "metadata": {},
   "outputs": [],
   "source": [
    "def train_and_get_score(classifier, x, y, test_X, test_Y, n_splits=3):\n",
    "    clf.fit(x, y)\n",
    "    scores = cross_val_score(classifier, x, y, cv=n_splits)\n",
    "    print(\"CROSS VALIDATION SCORE: Accuracy: %0.2f (+/- %0.2f)\" % (scores.mean(), scores.std() * 2))\n",
    "    print(\"SAME DATASET SCORE: Accuracy: %0.2f\" % clf.score(train_X, train_Y))\n",
    "    print(\"TEST SCORE: Accuracy: %0.2f\" % clf.score(test_X, test_Y))"
   ]
  },
  {
   "cell_type": "markdown",
   "metadata": {},
   "source": [
    "### Naive Bayes"
   ]
  },
  {
   "cell_type": "code",
   "execution_count": 39,
   "metadata": {},
   "outputs": [
    {
     "name": "stdout",
     "output_type": "stream",
     "text": [
      "CROSS VALIDATION SCORE: Accuracy: 0.91 (+/- 0.05)\n",
      "SAME DATASET SCORE: Accuracy: 0.95\n",
      "TEST SCORE: Accuracy: 0.93\n"
     ]
    }
   ],
   "source": [
    "clf = MultinomialNB()\n",
    "train_and_get_score(clf, train_X, train_Y, test_X, test_Y, 10)"
   ]
  },
  {
   "cell_type": "code",
   "execution_count": 40,
   "metadata": {},
   "outputs": [
    {
     "name": "stdout",
     "output_type": "stream",
     "text": [
      "Confusion matrix, without normalization\n",
      "[[1090   83]\n",
      " [  44 1199]]\n"
     ]
    },
    {
     "data": {
      "image/png": "[encoded data removed]",
      "text/plain": [
       "<matplotlib.figure.Figure at 0x11c08ae10>"
      ]
     },
     "metadata": {},
     "output_type": "display_data"
    }
   ],
   "source": [
    "plot_confusion_matrix(confusion_matrix(train_Y, clf.predict(train_X)), classes=classes)"
   ]
  },
  {
   "cell_type": "markdown",
   "metadata": {},
   "source": [
    "Ao testar a frase \"Parece uma nave\" o resultado deu contra, sendo que no RapidMiner deu positivo."
   ]
  },
  {
   "cell_type": "code",
   "execution_count": 41,
   "metadata": {},
   "outputs": [
    {
     "data": {
      "text/plain": [
       "'Contras'"
      ]
     },
     "execution_count": 41,
     "metadata": {},
     "output_type": "execute_result"
    }
   ],
   "source": [
    "clf.predict(vectorizer.transform(['Parece uma nave.']))[0]"
   ]
  },
  {
   "cell_type": "code",
   "execution_count": 42,
   "metadata": {},
   "outputs": [
    {
     "name": "stdout",
     "output_type": "stream",
     "text": [
      "CROSS VALIDATION SCORE: Accuracy: 0.87 (+/- 0.04)\n",
      "SAME DATASET SCORE: Accuracy: 0.91\n",
      "TEST SCORE: Accuracy: 0.88\n"
     ]
    },
    {
     "data": {
      "text/plain": [
       "'Parece uma nave. = Pros'"
      ]
     },
     "execution_count": 42,
     "metadata": {},
     "output_type": "execute_result"
    }
   ],
   "source": [
    "clf = BernoulliNB()\n",
    "train_and_get_score(clf, train_X, train_Y, test_X, test_Y, 10)\n",
    "\n",
    "'Parece uma nave.' + ' = ' + clf.predict(vectorizer.transform(['Parece uma nave.']))[0]"
   ]
  },
  {
   "cell_type": "markdown",
   "metadata": {},
   "source": [
    "### Random Forest"
   ]
  },
  {
   "cell_type": "code",
   "execution_count": 43,
   "metadata": {},
   "outputs": [
    {
     "name": "stdout",
     "output_type": "stream",
     "text": [
      "CROSS VALIDATION SCORE: Accuracy: 0.87 (+/- 0.00)\n",
      "SAME DATASET SCORE: Accuracy: 0.99\n",
      "TEST SCORE: Accuracy: 0.88\n"
     ]
    }
   ],
   "source": [
    "clf = RandomForestClassifier(criterion='entropy')\n",
    "train_and_get_score(clf, train_X, train_Y, test_X, test_Y)"
   ]
  },
  {
   "cell_type": "code",
   "execution_count": 44,
   "metadata": {},
   "outputs": [
    {
     "data": {
      "text/plain": [
       "'Parece uma nave. = Contras'"
      ]
     },
     "execution_count": 44,
     "metadata": {},
     "output_type": "execute_result"
    }
   ],
   "source": [
    "'Parece uma nave.' + ' = ' + clf.predict(vectorizer.transform(['Parece uma nave.']))[0]"
   ]
  },
  {
   "cell_type": "markdown",
   "metadata": {},
   "source": [
    "### Ridge regression"
   ]
  },
  {
   "cell_type": "code",
   "execution_count": 45,
   "metadata": {},
   "outputs": [
    {
     "name": "stdout",
     "output_type": "stream",
     "text": [
      "CROSS VALIDATION SCORE: Accuracy: 0.91 (+/- 0.00)\n",
      "SAME DATASET SCORE: Accuracy: 0.98\n",
      "TEST SCORE: Accuracy: 0.94\n"
     ]
    }
   ],
   "source": [
    "clf = RidgeClassifier()\n",
    "train_and_get_score(clf, train_X, train_Y, test_X, test_Y)"
   ]
  },
  {
   "cell_type": "code",
   "execution_count": 46,
   "metadata": {},
   "outputs": [
    {
     "data": {
      "text/plain": [
       "'Parece uma nave. = Contras'"
      ]
     },
     "execution_count": 46,
     "metadata": {},
     "output_type": "execute_result"
    }
   ],
   "source": [
    "'Parece uma nave.' + ' = ' + clf.predict(vectorizer.transform(['Parece uma nave.']))[0]"
   ]
  },
  {
   "cell_type": "markdown",
   "metadata": {},
   "source": [
    "## Otimizações"
   ]
  },
  {
   "cell_type": "markdown",
   "metadata": {},
   "source": [
    "### n-Grams"
   ]
  },
  {
   "cell_type": "code",
   "execution_count": 26,
   "metadata": {},
   "outputs": [
    {
     "data": {
      "text/html": [
       "<div>\n",
       "<style>\n",
       "    .dataframe thead tr:only-child th {\n",
       "        text-align: right;\n",
       "    }\n",
       "\n",
       "    .dataframe thead th {\n",
       "        text-align: left;\n",
       "    }\n",
       "\n",
       "    .dataframe tbody tr th {\n",
       "        vertical-align: top;\n",
       "    }\n",
       "</style>\n",
       "<table border=\"1\" class=\"dataframe\">\n",
       "  <thead>\n",
       "    <tr style=\"text-align: right;\">\n",
       "      <th></th>\n",
       "      <th>0</th>\n",
       "      <th>0 100</th>\n",
       "      <th>0 16v</th>\n",
       "      <th>0 8v</th>\n",
       "      <th>0 acab</th>\n",
       "      <th>0 agor</th>\n",
       "      <th>0 and</th>\n",
       "      <th>0 and bem</th>\n",
       "      <th>0 bom</th>\n",
       "      <th>0 bom consum</th>\n",
       "      <th>...</th>\n",
       "      <th>ótim torqu</th>\n",
       "      <th>ótim visibil</th>\n",
       "      <th>últ</th>\n",
       "      <th>únic</th>\n",
       "      <th>únic cois</th>\n",
       "      <th>únic cois não</th>\n",
       "      <th>únic peç</th>\n",
       "      <th>únic pont</th>\n",
       "      <th>únic pont posi</th>\n",
       "      <th>útil</th>\n",
       "    </tr>\n",
       "  </thead>\n",
       "  <tbody>\n",
       "    <tr>\n",
       "      <th>0</th>\n",
       "      <td>0.084605</td>\n",
       "      <td>0.0</td>\n",
       "      <td>0.0</td>\n",
       "      <td>0.0</td>\n",
       "      <td>0.0</td>\n",
       "      <td>0.0</td>\n",
       "      <td>0.0</td>\n",
       "      <td>0.0</td>\n",
       "      <td>0.0</td>\n",
       "      <td>0.0</td>\n",
       "      <td>...</td>\n",
       "      <td>0.0</td>\n",
       "      <td>0.0</td>\n",
       "      <td>0.0</td>\n",
       "      <td>0.0</td>\n",
       "      <td>0.0</td>\n",
       "      <td>0.0</td>\n",
       "      <td>0.0</td>\n",
       "      <td>0.0</td>\n",
       "      <td>0.0</td>\n",
       "      <td>0.0</td>\n",
       "    </tr>\n",
       "    <tr>\n",
       "      <th>1</th>\n",
       "      <td>0.000000</td>\n",
       "      <td>0.0</td>\n",
       "      <td>0.0</td>\n",
       "      <td>0.0</td>\n",
       "      <td>0.0</td>\n",
       "      <td>0.0</td>\n",
       "      <td>0.0</td>\n",
       "      <td>0.0</td>\n",
       "      <td>0.0</td>\n",
       "      <td>0.0</td>\n",
       "      <td>...</td>\n",
       "      <td>0.0</td>\n",
       "      <td>0.0</td>\n",
       "      <td>0.0</td>\n",
       "      <td>0.0</td>\n",
       "      <td>0.0</td>\n",
       "      <td>0.0</td>\n",
       "      <td>0.0</td>\n",
       "      <td>0.0</td>\n",
       "      <td>0.0</td>\n",
       "      <td>0.0</td>\n",
       "    </tr>\n",
       "    <tr>\n",
       "      <th>2</th>\n",
       "      <td>0.000000</td>\n",
       "      <td>0.0</td>\n",
       "      <td>0.0</td>\n",
       "      <td>0.0</td>\n",
       "      <td>0.0</td>\n",
       "      <td>0.0</td>\n",
       "      <td>0.0</td>\n",
       "      <td>0.0</td>\n",
       "      <td>0.0</td>\n",
       "      <td>0.0</td>\n",
       "      <td>...</td>\n",
       "      <td>0.0</td>\n",
       "      <td>0.0</td>\n",
       "      <td>0.0</td>\n",
       "      <td>0.0</td>\n",
       "      <td>0.0</td>\n",
       "      <td>0.0</td>\n",
       "      <td>0.0</td>\n",
       "      <td>0.0</td>\n",
       "      <td>0.0</td>\n",
       "      <td>0.0</td>\n",
       "    </tr>\n",
       "    <tr>\n",
       "      <th>3</th>\n",
       "      <td>0.000000</td>\n",
       "      <td>0.0</td>\n",
       "      <td>0.0</td>\n",
       "      <td>0.0</td>\n",
       "      <td>0.0</td>\n",
       "      <td>0.0</td>\n",
       "      <td>0.0</td>\n",
       "      <td>0.0</td>\n",
       "      <td>0.0</td>\n",
       "      <td>0.0</td>\n",
       "      <td>...</td>\n",
       "      <td>0.0</td>\n",
       "      <td>0.0</td>\n",
       "      <td>0.0</td>\n",
       "      <td>0.0</td>\n",
       "      <td>0.0</td>\n",
       "      <td>0.0</td>\n",
       "      <td>0.0</td>\n",
       "      <td>0.0</td>\n",
       "      <td>0.0</td>\n",
       "      <td>0.0</td>\n",
       "    </tr>\n",
       "    <tr>\n",
       "      <th>4</th>\n",
       "      <td>0.000000</td>\n",
       "      <td>0.0</td>\n",
       "      <td>0.0</td>\n",
       "      <td>0.0</td>\n",
       "      <td>0.0</td>\n",
       "      <td>0.0</td>\n",
       "      <td>0.0</td>\n",
       "      <td>0.0</td>\n",
       "      <td>0.0</td>\n",
       "      <td>0.0</td>\n",
       "      <td>...</td>\n",
       "      <td>0.0</td>\n",
       "      <td>0.0</td>\n",
       "      <td>0.0</td>\n",
       "      <td>0.0</td>\n",
       "      <td>0.0</td>\n",
       "      <td>0.0</td>\n",
       "      <td>0.0</td>\n",
       "      <td>0.0</td>\n",
       "      <td>0.0</td>\n",
       "      <td>0.0</td>\n",
       "    </tr>\n",
       "  </tbody>\n",
       "</table>\n",
       "<p>5 rows × 10000 columns</p>\n",
       "</div>"
      ],
      "text/plain": [
       "          0  0 100  0 16v  0 8v  0 acab  0 agor  0 and  0 and bem  0 bom  \\\n",
       "0  0.084605    0.0    0.0   0.0     0.0     0.0    0.0        0.0    0.0   \n",
       "1  0.000000    0.0    0.0   0.0     0.0     0.0    0.0        0.0    0.0   \n",
       "2  0.000000    0.0    0.0   0.0     0.0     0.0    0.0        0.0    0.0   \n",
       "3  0.000000    0.0    0.0   0.0     0.0     0.0    0.0        0.0    0.0   \n",
       "4  0.000000    0.0    0.0   0.0     0.0     0.0    0.0        0.0    0.0   \n",
       "\n",
       "   0 bom consum  ...   ótim torqu  ótim visibil  últ  únic  únic cois  \\\n",
       "0           0.0  ...          0.0           0.0  0.0   0.0        0.0   \n",
       "1           0.0  ...          0.0           0.0  0.0   0.0        0.0   \n",
       "2           0.0  ...          0.0           0.0  0.0   0.0        0.0   \n",
       "3           0.0  ...          0.0           0.0  0.0   0.0        0.0   \n",
       "4           0.0  ...          0.0           0.0  0.0   0.0        0.0   \n",
       "\n",
       "   únic cois não  únic peç  únic pont  únic pont posi  útil  \n",
       "0            0.0       0.0        0.0             0.0   0.0  \n",
       "1            0.0       0.0        0.0             0.0   0.0  \n",
       "2            0.0       0.0        0.0             0.0   0.0  \n",
       "3            0.0       0.0        0.0             0.0   0.0  \n",
       "4            0.0       0.0        0.0             0.0   0.0  \n",
       "\n",
       "[5 rows x 10000 columns]"
      ]
     },
     "execution_count": 26,
     "metadata": {},
     "output_type": "execute_result"
    }
   ],
   "source": [
    "vectorizer = TfidfVectorizer(tokenizer=clean_and_tokenize, ngram_range=[1,3], max_features=10000)\n",
    "\n",
    "ng_train_X = vectorizer.fit_transform(train_set['Texto'].values)\n",
    "ng_train_Y = train_set['Classe'].values\n",
    "\n",
    "ng_test_X = vectorizer.transform(test_set['Texto'].values)\n",
    "ng_test_Y = test_set['Classe'].values\n",
    "\n",
    "DataFrame(ng_train_X.toarray(), columns=vectorizer.get_feature_names()).head()"
   ]
  },
  {
   "cell_type": "markdown",
   "metadata": {},
   "source": [
    "### Naive Bayes"
   ]
  },
  {
   "cell_type": "code",
   "execution_count": 27,
   "metadata": {},
   "outputs": [
    {
     "name": "stdout",
     "output_type": "stream",
     "text": [
      "CROSS VALIDATION SCORE: Accuracy: 0.92 (+/- 0.04)\n",
      "SAME DATASET SCORE: Accuracy: 0.97\n",
      "TEST SCORE: Accuracy: 0.94\n"
     ]
    }
   ],
   "source": [
    "clf = MultinomialNB()\n",
    "train_and_get_score(clf, ng_train_X, ng_train_Y, ng_test_X, ng_test_Y, 10)"
   ]
  },
  {
   "cell_type": "markdown",
   "metadata": {},
   "source": [
    "### Random Forest"
   ]
  },
  {
   "cell_type": "code",
   "execution_count": 28,
   "metadata": {},
   "outputs": [
    {
     "name": "stdout",
     "output_type": "stream",
     "text": [
      "CROSS VALIDATION SCORE: Accuracy: 0.87 (+/- 0.00)\n",
      "SAME DATASET SCORE: Accuracy: 0.99\n",
      "TEST SCORE: Accuracy: 0.88\n"
     ]
    }
   ],
   "source": [
    "clf = RandomForestClassifier(criterion='entropy')\n",
    "train_and_get_score(clf, ng_train_X, ng_train_Y, ng_test_X, ng_test_Y)"
   ]
  },
  {
   "cell_type": "markdown",
   "metadata": {},
   "source": [
    "### Ridge regression"
   ]
  },
  {
   "cell_type": "code",
   "execution_count": 29,
   "metadata": {},
   "outputs": [
    {
     "name": "stdout",
     "output_type": "stream",
     "text": [
      "CROSS VALIDATION SCORE: Accuracy: 0.92 (+/- 0.01)\n",
      "SAME DATASET SCORE: Accuracy: 0.99\n",
      "TEST SCORE: Accuracy: 0.95\n"
     ]
    }
   ],
   "source": [
    "clf = RidgeClassifier()\n",
    "train_and_get_score(clf, ng_train_X, ng_train_Y, ng_test_X, ng_test_Y)"
   ]
  },
  {
   "cell_type": "markdown",
   "metadata": {},
   "source": [
    "** RESULTADO: leve melhoria no naive bayes e a acuracidade do Random Forest caiu **"
   ]
  },
  {
   "cell_type": "markdown",
   "metadata": {},
   "source": [
    "### IDEIAS"
   ]
  },
  {
   "cell_type": "markdown",
   "metadata": {
    "collapsed": true
   },
   "source": [
    "- Corrigir palavras\n",
    "- Remover números e adicionar hasNumber como uma feature"
   ]
  }
 ],
 "metadata": {
  "kernelspec": {
   "display_name": "Python 3",
   "language": "python",
   "name": "python3"
  },
  "language_info": {
   "codemirror_mode": {
    "name": "ipython",
    "version": 3
   },
   "file_extension": ".py",
   "mimetype": "text/x-python",
   "name": "python",
   "nbconvert_exporter": "python",
   "pygments_lexer": "ipython3",
   "version": "3.6.1"
  }
 },
 "nbformat": 4,
 "nbformat_minor": 2
}
